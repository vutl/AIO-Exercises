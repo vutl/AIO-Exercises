{
  "nbformat": 4,
  "nbformat_minor": 0,
  "metadata": {
    "colab": {
      "provenance": [],
      "gpuType": "T4",
      "authorship_tag": "ABX9TyNrgN4ww1iAV/My71tVdjKR",
      "include_colab_link": true
    },
    "kernelspec": {
      "name": "python3",
      "display_name": "Python 3"
    },
    "language_info": {
      "name": "python"
    },
    "accelerator": "GPU"
  },
  "cells": [
    {
      "cell_type": "markdown",
      "metadata": {
        "id": "view-in-github",
        "colab_type": "text"
      },
      "source": [
        "<a href=\"https://colab.research.google.com/github/vutl/AIO-Exercises/blob/features%2Fnumpy-ex-12-to-21/Module%202/NumpyEx.ipynb\" target=\"_parent\"><img src=\"https://colab.research.google.com/assets/colab-badge.svg\" alt=\"Open In Colab\"/></a>"
      ]
    },
    {
      "cell_type": "markdown",
      "source": [
        "# **Bài tập 2: Xử lý ảnh**"
      ],
      "metadata": {
        "id": "gHbrNt6kMuPS"
      }
    },
    {
      "cell_type": "markdown",
      "source": [
        "**Câu hỏi 12:** Hoàn thành đoạn code sau đây để chuyển ảnh màu sang ảnh xám dựa vào\n",
        "phương pháp Lightness:"
      ],
      "metadata": {
        "id": "mGpyn43sLqGY"
      }
    },
    {
      "cell_type": "code",
      "source": [
        "! gdown 1i9dqan21DjQoG5Q_VEvm0LrVwAlXD0vB\n",
        "import matplotlib.image as mpimg\n",
        "import numpy as np\n",
        "\n",
        "img = mpimg.imread('/content/dog.jpeg')\n",
        "gray_img_01 = (np.max(img, axis=2) + np.min(img, axis=2)) / 2\n",
        "print(gray_img_01[0, 0])"
      ],
      "metadata": {
        "colab": {
          "base_uri": "https://localhost:8080/"
        },
        "id": "EPjHJOLpJ2EB",
        "outputId": "63dc522b-bbbf-4926-e0be-e451eb2aea77"
      },
      "execution_count": 2,
      "outputs": [
        {
          "output_type": "stream",
          "name": "stdout",
          "text": [
            "Downloading...\n",
            "From: https://drive.google.com/uc?id=1i9dqan21DjQoG5Q_VEvm0LrVwAlXD0vB\n",
            "To: /content/dog.jpeg\n",
            "\r  0% 0.00/33.7k [00:00<?, ?B/s]\r100% 33.7k/33.7k [00:00<00:00, 54.2MB/s]\n",
            "102.5\n"
          ]
        }
      ]
    },
    {
      "cell_type": "markdown",
      "source": [
        "**Câu hỏi 13:** Hoàn thành đoạn code sau đây để chuyển ảnh màu sang ảnh xám dựa vào\n",
        "phương pháp Average:"
      ],
      "metadata": {
        "id": "Sm-0H2ufLoe6"
      }
    },
    {
      "cell_type": "code",
      "source": [
        "import matplotlib.image as mpimg\n",
        "import numpy as np\n",
        "\n",
        "img = mpimg.imread('/content/dog.jpeg')\n",
        "gray_img_02 = np.mean(img, axis=2)\n",
        "print(gray_img_02[0, 0])"
      ],
      "metadata": {
        "colab": {
          "base_uri": "https://localhost:8080/"
        },
        "id": "vS0UHXfJKpX9",
        "outputId": "7f4461e4-0807-407e-d785-b68b119a6c58"
      },
      "execution_count": 3,
      "outputs": [
        {
          "output_type": "stream",
          "name": "stdout",
          "text": [
            "107.66666666666667\n"
          ]
        }
      ]
    },
    {
      "cell_type": "markdown",
      "source": [
        "**Câu hỏi 14:** Hoàn thành đoạn code sau đây để chuyển ảnh màu sang ảnh xám dựa vào\n",
        "phương pháp Luminosity:"
      ],
      "metadata": {
        "id": "mdXWeFa5Lk2t"
      }
    },
    {
      "cell_type": "code",
      "source": [
        "import matplotlib.image as mpimg\n",
        "import numpy as np\n",
        "\n",
        "img = mpimg.imread('/content/dog.jpeg')\n",
        "gray_img_03 = 0.21 * img[:, :, 0] + 0.72 * img[:, :, 1] + 0.07 * img[:, :, 2]\n",
        "print(gray_img_03[0, 0])"
      ],
      "metadata": {
        "colab": {
          "base_uri": "https://localhost:8080/"
        },
        "id": "l-KNUBWLLag_",
        "outputId": "2116306c-7440-4ab9-ccc8-4514bf4f3999"
      },
      "execution_count": 4,
      "outputs": [
        {
          "output_type": "stream",
          "name": "stdout",
          "text": [
            "126.22999999999999\n"
          ]
        }
      ]
    },
    {
      "cell_type": "markdown",
      "source": [
        "# **Bài tập 3: Phân tích dữ liệu dạng bảng**"
      ],
      "metadata": {
        "id": "N5VnSIq6M2xg"
      }
    },
    {
      "cell_type": "code",
      "source": [
        "# Download data\n",
        "!gdown 1iA0WmVfW88HyJvTBSQDI5vesf-pgKabq\n",
        "\n",
        "import pandas as pd\n",
        "df = pd.read_csv ('/content/advertising.csv')\n",
        "\n",
        "data = df.to_numpy()"
      ],
      "metadata": {
        "colab": {
          "base_uri": "https://localhost:8080/"
        },
        "id": "iimWTTkJMJIT",
        "outputId": "b7e83ec5-35f7-4d17-9cc4-cd5bae131b0c"
      },
      "execution_count": 5,
      "outputs": [
        {
          "output_type": "stream",
          "name": "stdout",
          "text": [
            "Downloading...\n",
            "From: https://drive.google.com/uc?id=1iA0WmVfW88HyJvTBSQDI5vesf-pgKabq\n",
            "To: /content/advertising.csv\n",
            "\r  0% 0.00/4.06k [00:00<?, ?B/s]\r100% 4.06k/4.06k [00:00<00:00, 15.0MB/s]\n"
          ]
        }
      ]
    },
    {
      "cell_type": "markdown",
      "source": [
        "**Câu hỏi 15:** Lấy giá trị lớn nhất và chỉ mục tương ứng của nó trên cột Sales:"
      ],
      "metadata": {
        "id": "KtJNjvC3Ly7V"
      }
    },
    {
      "cell_type": "code",
      "source": [
        "import pandas as pd\n",
        "\n",
        "df = pd.read_csv('/content/advertising.csv')\n",
        "data = df.to_numpy()\n",
        "\n",
        "sales_col = df['Sales']\n",
        "max_value = sales_col.max()\n",
        "max_index = sales_col.idxmax()\n",
        "\n",
        "print(f\"Max: {max_value} - Index: {max_index}\")"
      ],
      "metadata": {
        "colab": {
          "base_uri": "https://localhost:8080/"
        },
        "id": "nsLLaHBENWZ6",
        "outputId": "cbf72c86-9bc8-4813-c402-69ceb8480a5a"
      },
      "execution_count": 6,
      "outputs": [
        {
          "output_type": "stream",
          "name": "stdout",
          "text": [
            "Max: 27.0 - Index: 175\n"
          ]
        }
      ]
    },
    {
      "cell_type": "markdown",
      "source": [
        "**Câu hỏi 16:** Giá trị trung bình của cột TV là:"
      ],
      "metadata": {
        "id": "QdayMOZfNcJO"
      }
    },
    {
      "cell_type": "code",
      "source": [
        "import pandas as pd\n",
        "\n",
        "df = pd.read_csv('/content/advertising.csv')\n",
        "tv_mean = df['TV'].mean()\n",
        "print(tv_mean)"
      ],
      "metadata": {
        "colab": {
          "base_uri": "https://localhost:8080/"
        },
        "id": "OTWGXPo9Nbfd",
        "outputId": "030fe172-9897-4165-ed19-173012620432"
      },
      "execution_count": 7,
      "outputs": [
        {
          "output_type": "stream",
          "name": "stdout",
          "text": [
            "147.0425\n"
          ]
        }
      ]
    },
    {
      "cell_type": "markdown",
      "source": [
        "**Câu hỏi 17:** Số lượng bản ghi có giá trị tại cột Sales lớn hơn hoặc bằng 20 là:"
      ],
      "metadata": {
        "id": "p0lPFmn0NqUl"
      }
    },
    {
      "cell_type": "code",
      "source": [
        "import pandas as pd\n",
        "\n",
        "df = pd.read_csv('/content/advertising.csv')\n",
        "count = df[df['Sales'] >= 20].shape[0]\n",
        "print(count)"
      ],
      "metadata": {
        "colab": {
          "base_uri": "https://localhost:8080/"
        },
        "id": "QeiXckpdNp2X",
        "outputId": "b80b975b-a7c8-4946-8f4a-ba6533d16afd"
      },
      "execution_count": 8,
      "outputs": [
        {
          "output_type": "stream",
          "name": "stdout",
          "text": [
            "40\n"
          ]
        }
      ]
    },
    {
      "cell_type": "markdown",
      "source": [
        "**Câu hỏi 18:** Tính giá trị trung bình của cột Radio thoả mãn điều kiện giá trị tương ứng\n",
        "trên cột Sales lớn hơn hoặc bằng 15:"
      ],
      "metadata": {
        "id": "XfKzR5c5N3g2"
      }
    },
    {
      "cell_type": "code",
      "source": [
        "import pandas as pd\n",
        "\n",
        "df = pd.read_csv('/content/advertising.csv')\n",
        "mean_radio = df[df['Sales'] >= 15]['Radio'].mean()\n",
        "print(mean_radio)"
      ],
      "metadata": {
        "colab": {
          "base_uri": "https://localhost:8080/"
        },
        "id": "Mm5E0gIQN3x1",
        "outputId": "4405f67f-6eab-4b55-e1b4-2b1a11540ffd"
      },
      "execution_count": 9,
      "outputs": [
        {
          "output_type": "stream",
          "name": "stdout",
          "text": [
            "26.22293577981651\n"
          ]
        }
      ]
    },
    {
      "cell_type": "markdown",
      "source": [
        "**Câu hỏi 19:** Tính tổng các hàng của cột Sales với điều kiện giá trị Newspaper lớn hơn\n",
        "giá trị trung bình của cột Newspaper:"
      ],
      "metadata": {
        "id": "aQw44vAzOJ60"
      }
    },
    {
      "cell_type": "code",
      "source": [
        "import pandas as pd\n",
        "\n",
        "df = pd.read_csv('/content/advertising.csv')\n",
        "newspaper_mean = df['Newspaper'].mean()\n",
        "sales_sum = df[df['Newspaper'] > newspaper_mean]['Sales'].sum()\n",
        "print(sales_sum)"
      ],
      "metadata": {
        "colab": {
          "base_uri": "https://localhost:8080/"
        },
        "id": "cp6NrkukOMGf",
        "outputId": "3119dd69-a42d-48c6-a513-40027d2b5478"
      },
      "execution_count": 10,
      "outputs": [
        {
          "output_type": "stream",
          "name": "stdout",
          "text": [
            "1405.1\n"
          ]
        }
      ]
    },
    {
      "cell_type": "markdown",
      "source": [
        "**Câu hỏi 20:** Gọi giá trị trung bình của cột Sales là A. Tạo ra mảng mới scores chứa các\n",
        "giá trị Good, Average và Bad sao cho: nếu giá trị hiện tại > A => giá trị trong mảng mới\n",
        "là Good, < A thì sẽ là Bad và = A sẽ là Average. Sau đó in ra kết quả scores[7:10]"
      ],
      "metadata": {
        "id": "lV01-mQ3OXuh"
      }
    },
    {
      "cell_type": "code",
      "source": [
        "import pandas as pd\n",
        "import numpy as np\n",
        "\n",
        "df = pd.read_csv('/content/advertising.csv')\n",
        "sales_mean = df['Sales'].mean()\n",
        "\n",
        "scores = np.where(df['Sales'] > sales_mean, 'Good', np.where(df['Sales'] < sales_mean, 'Bad', 'Average'))\n",
        "print(scores[7:10])"
      ],
      "metadata": {
        "colab": {
          "base_uri": "https://localhost:8080/"
        },
        "id": "Qq2I6n5IOpz9",
        "outputId": "baa2307c-6fc8-4992-c29d-d00477723101"
      },
      "execution_count": 11,
      "outputs": [
        {
          "output_type": "stream",
          "name": "stdout",
          "text": [
            "['Bad' 'Bad' 'Good']\n"
          ]
        }
      ]
    },
    {
      "cell_type": "markdown",
      "source": [
        "**Câu hỏi 21:** Gọi giá trị trên cột Sales gần nhất với giá trị trung bình cũng chính cột\n",
        "Sales là A. Tạo ra mảng mới scores chứa các giá trị Good, Average và Bad sao cho: nếu\n",
        "giá trị hiện tại > A => giá trị trong mảng mới là Good, < A thì sẽ là Bad và = A sẽ là\n",
        "Average. Sau đó in ra kết quả scores[7:10]"
      ],
      "metadata": {
        "id": "Wy687OI5PBcr"
      }
    },
    {
      "cell_type": "code",
      "source": [
        "import pandas as pd\n",
        "import numpy as np\n",
        "\n",
        "df = pd.read_csv('/content/advertising.csv')\n",
        "sales_mean = df['Sales'].mean()\n",
        "closest_to_mean = df.iloc[(df['Sales'] - sales_mean).abs().argsort()[:1]]['Sales'].values[0]\n",
        "\n",
        "scores = np.where(df['Sales'] > closest_to_mean, 'Good', np.where(df['Sales'] < closest_to_mean, 'Bad', 'Average'))\n",
        "print(scores[7:10])"
      ],
      "metadata": {
        "colab": {
          "base_uri": "https://localhost:8080/"
        },
        "id": "dt1fk-1-PEXv",
        "outputId": "89747851-96e6-4c39-cd92-81e8e31ef13f"
      },
      "execution_count": 12,
      "outputs": [
        {
          "output_type": "stream",
          "name": "stdout",
          "text": [
            "['Bad' 'Bad' 'Good']\n"
          ]
        }
      ]
    }
  ]
}